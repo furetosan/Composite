{
 "cells": [
  {
   "cell_type": "markdown",
   "metadata": {},
   "source": [
    "Frederico Furst Bittencourt"
   ]
  },
  {
   "cell_type": "markdown",
   "metadata": {},
   "source": [
    "Prof. Cimini"
   ]
  },
  {
   "cell_type": "markdown",
   "metadata": {},
   "source": [
    "# Introduction"
   ]
  },
  {
   "cell_type": "markdown",
   "metadata": {},
   "source": [
    "DISCLAIMER: All of this code is provided AS-IS."
   ]
  },
  {
   "cell_type": "markdown",
   "metadata": {},
   "source": [
    "This is a spin-off of the sum of assignments completed in the discipline Mecânica dos Materiais Compostos at Universidade Federal de Minas Gerais (UFMG), with Prof. Carlos Cimini."
   ]
  },
  {
   "cell_type": "code",
   "execution_count": 1,
   "metadata": {},
   "outputs": [],
   "source": [
    "import numpy as np\n",
    "from matplotlib import pyplot as pl\n",
    "inv = np.linalg.inv\n",
    "a = np.array\n",
    "np.set_printoptions(precision=4)"
   ]
  },
  {
   "cell_type": "code",
   "execution_count": 2,
   "metadata": {},
   "outputs": [],
   "source": [
    "%matplotlib inline"
   ]
  },
  {
   "cell_type": "markdown",
   "metadata": {},
   "source": [
    "# Methodology"
   ]
  },
  {
   "cell_type": "markdown",
   "metadata": {},
   "source": [
    "<nl>\n",
    "<li>Matrizes globais em função de matrizes locais.</li>\n",
    "<li>Relações constitutivas para a lâmina.</li>\n",
    "<li>Facilitar a entrada pra diversas lâminas com diversas orientações.</li>\n",
    "</nl>"
   ]
  },
  {
   "cell_type": "markdown",
   "metadata": {},
   "source": [
    "Nesta fase da implementação, já podemos contar com os modelos micromecânicos (pouco úteis) implementados em Composite.Material e com o cálculo das matrizes A, a e D, d através da classe Composite.SymmetricComposite."
   ]
  },
  {
   "cell_type": "code",
   "execution_count": 3,
   "metadata": {},
   "outputs": [],
   "source": [
    "import Composite as c"
   ]
  },
  {
   "cell_type": "markdown",
   "metadata": {},
   "source": [
    "## Data Input"
   ]
  },
  {
   "cell_type": "markdown",
   "metadata": {},
   "source": [
    "Valores sem símbolos, a fim de produzir saída com o número maior que o pedido de algarismos significativos, i.e. três (3)."
   ]
  },
  {
   "cell_type": "code",
   "execution_count": 4,
   "metadata": {},
   "outputs": [],
   "source": [
    "mat_dado1 = c.Material(\n",
    "                    F1t=1280., F2t=30., F1c=335., F2c=158., F6=49.\n",
    ")\n",
    "mat_dado1.E_1 = 87000. # MPa\n",
    "mat_dado1.E_2 = 5500. # MPa\n",
    "mat_dado1.nu_12 = 0.34\n",
    "mat_dado1.G_12 = 2200. # MPa"
   ]
  },
  {
   "cell_type": "markdown",
   "metadata": {},
   "source": [
    "Questao 3 da Prova 1 da Pos Graduacao com o Cimini"
   ]
  },
  {
   "cell_type": "code",
   "execution_count": 4,
   "metadata": {},
   "outputs": [],
   "source": [
    "mat_dado3 = c.Material(\n",
    "                    F1t=1280., F2t=30., F1c=335., F2c=158., F6=49.\n",
    ")\n",
    "mat_dado3.E_1 = 40000. # MPa\n",
    "mat_dado3.E_2 = 10000. # MPa\n",
    "mat_dado3.nu_12 = 0.25\n",
    "mat_dado3.G_12 = 3500. # MPa"
   ]
  },
  {
   "cell_type": "markdown",
   "metadata": {},
   "source": [
    "# Parte 3a"
   ]
  },
  {
   "cell_type": "markdown",
   "metadata": {},
   "source": [
    "Estender seu código para que ele possa calcular para cada lâmina, dadas as cargas no plano $N_x$, $N_y$ e $N_s$ e os momentos $M_x$, $M_y$ e $M_s$:"
   ]
  },
  {
   "cell_type": "code",
   "execution_count": 5,
   "metadata": {},
   "outputs": [],
   "source": [
    "# Obs: as cargas abaixo são arbitrárias e não são pertinentes ao trabalho\n",
    "Nmatrix = np.matrix([\n",
    "        [0.1],\n",
    "        [0.0],\n",
    "        [0.0]\n",
    "    ]) # MN\n",
    "Mmatrix = np.matrix([\n",
    "        [0.0],\n",
    "        [0.2],\n",
    "        [0.0]\n",
    "    ]) # MN.m"
   ]
  },
  {
   "cell_type": "markdown",
   "metadata": {},
   "source": [
    "(A) tensões e deformações no sistema de coordenadas \"no-eixo\" (on-axis);"
   ]
  },
  {
   "cell_type": "markdown",
   "metadata": {},
   "source": [
    "Podemos tomar composto simétrico da parte 2 como exemplo nos cálculos."
   ]
  },
  {
   "cell_type": "code",
   "execution_count": null,
   "metadata": {},
   "outputs": [],
   "source": [
    "sc31 = c.SymmetricComposite(\n",
    "    sheets=[c.Sheet(theta=+45, material = mat_dado1, thickness=0.001),\n",
    "                    c.Sheet(theta=-45, material = mat_dado1, thickness=0.001)],\n",
    "    thickness = 0.004 )\n",
    "# sem sanduíche"
   ]
  },
  {
   "cell_type": "markdown",
   "metadata": {},
   "source": [
    "Q3 P1"
   ]
  },
  {
   "cell_type": "code",
   "execution_count": 5,
   "metadata": {},
   "outputs": [
    {
     "data": {
      "text/plain": [
       "24.380000000000003"
      ]
     },
     "execution_count": 5,
     "metadata": {},
     "output_type": "execute_result"
    }
   ],
   "source": [
    "(2*40.63+4*10.16)*0.2"
   ]
  },
  {
   "cell_type": "code",
   "execution_count": 6,
   "metadata": {},
   "outputs": [
    {
     "data": {
      "text/plain": [
       "2499.6"
      ]
     },
     "execution_count": 6,
     "metadata": {},
     "output_type": "execute_result"
    }
   ],
   "source": [
    "2083*1.2"
   ]
  },
  {
   "cell_type": "code",
   "execution_count": 7,
   "metadata": {},
   "outputs": [
    {
     "data": {
      "text/plain": [
       "1249.8"
      ]
     },
     "execution_count": 7,
     "metadata": {},
     "output_type": "execute_result"
    }
   ],
   "source": [
    "_/2"
   ]
  },
  {
   "cell_type": "code",
   "execution_count": 8,
   "metadata": {},
   "outputs": [
    {
     "data": {
      "text/plain": [
       "43.1875"
      ]
     },
     "execution_count": 8,
     "metadata": {},
     "output_type": "execute_result"
    }
   ],
   "source": [
    "0.04145*1250-0.00345*2500 # eps x"
   ]
  },
  {
   "cell_type": "code",
   "execution_count": 9,
   "metadata": {},
   "outputs": [
    {
     "data": {
      "text/plain": [
       "64.7625"
      ]
     },
     "execution_count": 9,
     "metadata": {},
     "output_type": "execute_result"
    }
   ],
   "source": [
    "-0.00345*1250+0.02763*2500 # eps y"
   ]
  },
  {
   "cell_type": "markdown",
   "metadata": {},
   "source": [
    "Obs: é necessário popular as posições simétricas para cada objeto do tipo Composite.SymmetricComposite, antes de efetuar as chamadas para as funções a seguir."
   ]
  },
  {
   "cell_type": "code",
   "execution_count": 7,
   "metadata": {},
   "outputs": [],
   "source": [
    "sc31.populate_symmetric_positions()"
   ]
  },
  {
   "cell_type": "code",
   "execution_count": 8,
   "metadata": {},
   "outputs": [],
   "source": [
    "p45sheet = sc31.sheets[0]"
   ]
  },
  {
   "cell_type": "code",
   "execution_count": 9,
   "metadata": {},
   "outputs": [],
   "source": [
    "m45sheet = sc31.sheets[0]"
   ]
  },
  {
   "cell_type": "code",
   "execution_count": 10,
   "metadata": {},
   "outputs": [
    {
     "data": {
      "text/plain": [
       "matrix([[ 1.1494e-05, -3.9080e-06,  0.0000e+00],\n",
       "        [-3.9080e-06,  1.8182e-04,  0.0000e+00],\n",
       "        [ 0.0000e+00,  0.0000e+00,  4.5455e-04]])"
      ]
     },
     "execution_count": 10,
     "metadata": {},
     "output_type": "execute_result"
    }
   ],
   "source": [
    "p45sheet.get_on_axis_compliance()"
   ]
  },
  {
   "cell_type": "code",
   "execution_count": 11,
   "metadata": {},
   "outputs": [
    {
     "data": {
      "text/plain": [
       "matrix([[ 1.1494e-05, -3.9080e-06,  0.0000e+00],\n",
       "        [-3.9080e-06,  1.8182e-04,  0.0000e+00],\n",
       "        [ 0.0000e+00,  0.0000e+00,  4.5455e-04]])"
      ]
     },
     "execution_count": 11,
     "metadata": {},
     "output_type": "execute_result"
    }
   ],
   "source": [
    "m45sheet.get_on_axis_compliance()"
   ]
  },
  {
   "cell_type": "code",
   "execution_count": 12,
   "metadata": {},
   "outputs": [
    {
     "data": {
      "text/plain": [
       "matrix([[ 1.4849],\n",
       "        [-1.356 ],\n",
       "        [ 0.    ]])"
      ]
     },
     "execution_count": 12,
     "metadata": {},
     "output_type": "execute_result"
    }
   ],
   "source": [
    "Amatrix = sc31.get_A()\n",
    "number_of_total_sheets = 2*len(sc31.sheets)\n",
    "epsilon0 = inv(Amatrix)*Nmatrix/sc31.thickness\n",
    "epsilon0"
   ]
  },
  {
   "cell_type": "code",
   "execution_count": 13,
   "metadata": {},
   "outputs": [
    {
     "data": {
      "text/plain": [
       "matrix([[-2.712 ],\n",
       "        [ 2.9698],\n",
       "        [ 0.    ]])"
      ]
     },
     "execution_count": 13,
     "metadata": {},
     "output_type": "execute_result"
    }
   ],
   "source": [
    "Dmatrix = sc31.get_A()\n",
    "number_of_total_sheets = 2*len(sc31.sheets)\n",
    "kappa = inv(Dmatrix)*Mmatrix/sc31.thickness\n",
    "kappa"
   ]
  },
  {
   "cell_type": "code",
   "execution_count": 14,
   "metadata": {},
   "outputs": [],
   "source": [
    "sc31.epsilon0 = epsilon0"
   ]
  },
  {
   "cell_type": "code",
   "execution_count": 15,
   "metadata": {},
   "outputs": [],
   "source": [
    "sc31.kappa = kappa"
   ]
  },
  {
   "cell_type": "markdown",
   "metadata": {},
   "source": [
    "Sabe-se que as deformações \"off-axis\" podem ser obtidas através da equação:"
   ]
  },
  {
   "cell_type": "markdown",
   "metadata": {},
   "source": [
    "\\begin{equation}\n",
    "    \\epsilon_{x,y}^k = \\epsilon^0 + z^k \\kappa\n",
    "\\end{equation}"
   ]
  },
  {
   "cell_type": "code",
   "execution_count": 16,
   "metadata": {},
   "outputs": [],
   "source": [
    "sc31.calculate_strain(Nmatrix,Mmatrix)"
   ]
  },
  {
   "cell_type": "code",
   "execution_count": 17,
   "metadata": {},
   "outputs": [
    {
     "data": {
      "text/plain": [
       "matrix([[ 1.4849],\n",
       "        [-1.356 ],\n",
       "        [ 0.    ]])"
      ]
     },
     "execution_count": 17,
     "metadata": {},
     "output_type": "execute_result"
    }
   ],
   "source": [
    "sc31.epsilon0"
   ]
  },
  {
   "cell_type": "code",
   "execution_count": 18,
   "metadata": {},
   "outputs": [
    {
     "data": {
      "text/plain": [
       "matrix([[-1958804.0931],\n",
       "        [ 2302559.5432],\n",
       "        [  118364.4203]])"
      ]
     },
     "execution_count": 18,
     "metadata": {},
     "output_type": "execute_result"
    }
   ],
   "source": [
    "sc31.kappa"
   ]
  },
  {
   "cell_type": "code",
   "execution_count": 19,
   "metadata": {},
   "outputs": [],
   "source": [
    "sc31.update_lamina_strain()"
   ]
  },
  {
   "cell_type": "code",
   "execution_count": 20,
   "metadata": {},
   "outputs": [],
   "source": [
    "sc31.update_lamina_stress()"
   ]
  },
  {
   "cell_type": "markdown",
   "metadata": {},
   "source": [
    "(B) critério de falha da primeira lâmina (Tsai-Wu)."
   ]
  },
  {
   "cell_type": "markdown",
   "metadata": {},
   "source": [
    "O método abaixo, assim como métodos implementados acima, possuem como único parâmetro um compósito simétrico, o que faz com que seja bastante simples o processo de refatorar o código a cada ciclo de implementação."
   ]
  },
  {
   "cell_type": "code",
   "execution_count": 21,
   "metadata": {},
   "outputs": [],
   "source": [
    "sc31.assess_safety()"
   ]
  },
  {
   "cell_type": "code",
   "execution_count": 22,
   "metadata": {},
   "outputs": [
    {
     "data": {
      "text/plain": [
       "[1.4820246784678102e-05,\n",
       " -2.541451191142892e-05,\n",
       " 6.512942274252321e-06,\n",
       " -7.339876822595916e-06]"
      ]
     },
     "execution_count": 22,
     "metadata": {},
     "output_type": "execute_result"
    }
   ],
   "source": [
    "sc31.pos_safety_factors"
   ]
  },
  {
   "cell_type": "code",
   "execution_count": 23,
   "metadata": {},
   "outputs": [
    {
     "data": {
      "text/plain": [
       "[2.5490783442698826e-05,\n",
       " -1.4840546109433445e-05,\n",
       " 7.347254991422587e-06,\n",
       " -6.51767014401095e-06]"
      ]
     },
     "execution_count": 23,
     "metadata": {},
     "output_type": "execute_result"
    }
   ],
   "source": [
    "sc31.neg_safety_factors"
   ]
  },
  {
   "cell_type": "markdown",
   "metadata": {},
   "source": [
    "Neste caso, $S_f = 0.017 > 1 \\Rightarrow$ ~59 vezes menos seguro que o necessário."
   ]
  },
  {
   "cell_type": "markdown",
   "metadata": {},
   "source": [
    "Obs: não é de se surpreender que ambos os fatores de segurança para lâminas de z positivo e para lâminas de z negativo são correspondentes, já que a deformação $\\kappa$ neste caso."
   ]
  },
  {
   "cell_type": "markdown",
   "metadata": {},
   "source": [
    "# Parte 3b"
   ]
  },
  {
   "cell_type": "markdown",
   "metadata": {},
   "source": [
    "No problema a seguir utilizar o material a ser anunciado:"
   ]
  },
  {
   "cell_type": "markdown",
   "metadata": {},
   "source": [
    "(C) para um vaso de pressão submetido à pressão interna de 0,1 MPa com diâmetro média de 1 m com layup $[+\\theta/-\\theta]_{ns}$:"
   ]
  },
  {
   "cell_type": "markdown",
   "metadata": {},
   "source": [
    "<ul>\n",
    "    <li>determinar o ângulo $\\theta_0$ ótimo (máxima resistência) para FPF (falha de primeira lâmina) pelo critério de falha de Tsai-Wu - Dica: calcular o menor $S_f$ para o laminado $[+\\theta/-\\theta]_{s}$;</li>\n",
    "    <li>determinar a mínima espessura para FPF (falha de primeira lâmina) pelo critério de falha de Tsai-Wu - Dica: aumentar (ou reduzir) a espessura em escala de forma a determinar o menor n para que o $S_f$ mínimo do laminado $[+\\theta_0/-\\theta_0]_{ns}$ seja igual a 1;</li>\n",
    "    <li>comparar os resultados em termos de massa por unidade de comprimento (kg/m) para o vaso dimensionado, com vasos de pressão em alumínio 2024-T6 (E = 73 GPa, $\\nu$ = 0,3, $\\rho = 2700 kg/m^3$ e $\\sigma_e = 340 MPa$) e aço A517 Grau B ( E = 210 GPa, $\\nu$ = 0,3, $\\rho = 7800 kg/m^3$ e $\\sigma_e = 690 MPa$), com a determinação das respectivas espessuras utilizando criteerio de falha de Von Mises.</li>\n",
    "</ul>"
   ]
  },
  {
   "cell_type": "markdown",
   "metadata": {},
   "source": [
    "Assim, é possível avaliar o ângulo ótimo conforme pedido no item (C)."
   ]
  },
  {
   "cell_type": "markdown",
   "metadata": {},
   "source": [
    "## Determinação de $\\theta_0$"
   ]
  },
  {
   "cell_type": "code",
   "execution_count": 24,
   "metadata": {},
   "outputs": [],
   "source": [
    "# storage for graphing information\n",
    "x_pos_angles = []\n",
    "y_pos_safeties = []"
   ]
  },
  {
   "cell_type": "code",
   "execution_count": 25,
   "metadata": {},
   "outputs": [],
   "source": [
    "# varying 1 degree per iteration\n",
    "# vaso de pressão\n",
    "p = 0.1 # MPa\n",
    "r = 0.5 # m\n",
    "t = 0.001 # m\n",
    "h = t*4 # m\n",
    "sigmax = p*r/2\n",
    "sigmay = p*r\n",
    "# Obs: supomos condições condizentes \n",
    "Nmatrix = np.matrix([\n",
    "        [ sigmax ],\n",
    "        [ sigmay ],\n",
    "        [0.0]\n",
    "    ]) # MPa\n",
    "Mmatrix = np.matrix([\n",
    "        [0.0],\n",
    "        [0.0],\n",
    "        [0.0]\n",
    "    ]) # MPa.m"
   ]
  },
  {
   "cell_type": "code",
   "execution_count": 26,
   "metadata": {
    "scrolled": false
   },
   "outputs": [],
   "source": [
    "for i in range(180):\n",
    "    # using values \n",
    "    s1 = c.Sheet(theta=+i,material=mat_dado1,thickness=0.001)\n",
    "    s2 = c.Sheet(theta=-i,material=mat_dado1,thickness=0.001)\n",
    "    sc32 = c.SymmetricComposite([\n",
    "            s1, s2\n",
    "        ], thickness = 0.004) # metros\n",
    "    # sem sanduíche, já que ele somente ocuparia espaço...\n",
    "    sc32.populate_symmetric_positions()\n",
    "    sc32.calculate_strain(Nmatrix,Mmatrix)\n",
    "    sc32.update_lamina_strain()\n",
    "    sc32.update_lamina_stress()\n",
    "    sc32.assess_safety()\n",
    "    x_pos_angles.append(i)\n",
    "    y_pos_safeties.append(sc32.neg_safety_factors[0])"
   ]
  },
  {
   "cell_type": "markdown",
   "metadata": {},
   "source": [
    "No gráfico abaixo, consideramos laminas de ângulos variando entre 0 e 180 graus, e dois máximos destacam-se."
   ]
  },
  {
   "cell_type": "code",
   "execution_count": 27,
   "metadata": {
    "scrolled": true
   },
   "outputs": [
    {
     "data": {
      "text/plain": [
       "[<matplotlib.lines.Line2D at 0x1ee17e2c4e0>]"
      ]
     },
     "execution_count": 27,
     "metadata": {},
     "output_type": "execute_result"
    },
    {
     "data": {
      "image/png": "[encoded data removed]",
      "text/plain": [
       "<Figure size 432x288 with 1 Axes>"
      ]
     },
     "metadata": {},
     "output_type": "display_data"
    }
   ],
   "source": [
    "pl.annotate('local max', xy=(123, 0.4), xytext=(60, 50),\n",
    "            arrowprops=dict(facecolor='black', shrink=0.05),\n",
    "            )\n",
    "pl.title('Safety Factor vs Theta0')\n",
    "pl.xlabel('degrees')\n",
    "pl.ylabel('Safety Factor')\n",
    "pl.plot(x_pos_angles,y_pos_safeties)"
   ]
  },
  {
   "cell_type": "code",
   "execution_count": 28,
   "metadata": {},
   "outputs": [
    {
     "data": {
      "text/plain": [
       "123"
      ]
     },
     "execution_count": 28,
     "metadata": {},
     "output_type": "execute_result"
    }
   ],
   "source": [
    "x_pos_angles[y_pos_safeties.index(max(y_pos_safeties))]"
   ]
  },
  {
   "cell_type": "markdown",
   "metadata": {},
   "source": [
    "Portanto, temos $\\theta_0 = 53^\\circ$."
   ]
  },
  {
   "cell_type": "code",
   "execution_count": 29,
   "metadata": {},
   "outputs": [
    {
     "data": {
      "text/plain": [
       "0.3087945938857901"
      ]
     },
     "execution_count": 29,
     "metadata": {},
     "output_type": "execute_result"
    }
   ],
   "source": [
    "max(y_pos_safeties)"
   ]
  },
  {
   "cell_type": "markdown",
   "metadata": {},
   "source": [
    "Para o ângulo máximo, temos que $S_f = 0.0024 < 1$ é ~404 vezes menos seguro que o mínimo necessário."
   ]
  },
  {
   "cell_type": "markdown",
   "metadata": {},
   "source": [
    "## Determinação da espessura mínima $h$ do laminado "
   ]
  },
  {
   "cell_type": "code",
   "execution_count": 30,
   "metadata": {},
   "outputs": [],
   "source": [
    "# storage for graphing information\n",
    "x_number = []\n",
    "y_stress = []\n",
    "y_strain = []\n",
    "y_pos_safeties = []"
   ]
  },
  {
   "cell_type": "code",
   "execution_count": 31,
   "metadata": {},
   "outputs": [],
   "source": [
    "# vaso de pressão\n",
    "p = 10. # MPa\n",
    "r = 0.5 # m\n",
    "t = 0.0001 # m"
   ]
  },
  {
   "cell_type": "code",
   "execution_count": 32,
   "metadata": {},
   "outputs": [],
   "source": [
    "Nx = p*r/2\n",
    "Ny = p*r\n",
    "Nmatrix = np.matrix([\n",
    "        [ Nx ],\n",
    "        [ Ny ],\n",
    "        [0.0]\n",
    "    ]) # MPa - correspondentes a um metro(!?)\n",
    "Mmatrix = np.matrix([\n",
    "        [0.0],\n",
    "        [0.0],\n",
    "        [0.0]\n",
    "    ])"
   ]
  },
  {
   "cell_type": "code",
   "execution_count": 33,
   "metadata": {
    "scrolled": false
   },
   "outputs": [],
   "source": [
    "for n in range(100):\n",
    "    # podemos aproveitar a natureza linear do problema\n",
    "    h = 4*(100*n+1)*t# 10 cm , considerando que o restante vai ser honeycomb?\n",
    "    # usando 38 graus\n",
    "    s1 = c.Sheet(theta=+38,material=mat_dado1,thickness=t)\n",
    "    s2 = c.Sheet(theta=-38,material=mat_dado1,thickness=t)\n",
    "    sheets = []\n",
    "    for i in range(n+1):\n",
    "        sheets.append(s1)\n",
    "        sheets.append(s2)\n",
    "    sc32 = c.SymmetricComposite(sheets, thickness = h) # metros\n",
    "    # sem sanduíche, já que ele somente ocuparia espaço...\n",
    "    sc32.populate_symmetric_positions()\n",
    "    sc32.calculate_strain(Nmatrix,Mmatrix)\n",
    "    sc32.update_lamina_strain()\n",
    "    sc32.update_lamina_stress()\n",
    "    sc32.assess_safety()\n",
    "    x_number.append(4*(30*n+1))\n",
    "    sheet = sc32.sheets[0]\n",
    "    y_stress.append(sheet.pos_sigma_on.A[0])\n",
    "    y_strain.append(sc32.epsilon0[0].A1)\n",
    "    y_pos_safeties.append(sc32.pos_safety_factors[0])"
   ]
  },
  {
   "cell_type": "code",
   "execution_count": 34,
   "metadata": {},
   "outputs": [
    {
     "data": {
      "text/plain": [
       "[<matplotlib.lines.Line2D at 0x1ee19eb4780>]"
      ]
     },
     "execution_count": 34,
     "metadata": {},
     "output_type": "execute_result"
    },
    {
     "data": {
      "image/png": "[encoded data removed]",
      "text/plain": [
       "<Figure size 432x288 with 1 Axes>"
      ]
     },
     "metadata": {},
     "output_type": "display_data"
    }
   ],
   "source": [
    "pl.annotate('no variation', xy=(4, 54), xytext=(6, 55),\n",
    "            arrowprops=dict(facecolor='black', shrink=0.05),\n",
    "            )\n",
    "pl.title('Safety Factor vs Number of Lamina')\n",
    "pl.xlabel('N')\n",
    "pl.ylabel('Safety Factor')\n",
    "pl.plot(x_number, y_pos_safeties)"
   ]
  },
  {
   "cell_type": "code",
   "execution_count": 35,
   "metadata": {},
   "outputs": [
    {
     "data": {
      "text/plain": [
       "[<matplotlib.lines.Line2D at 0x1ee19f262e8>]"
      ]
     },
     "execution_count": 35,
     "metadata": {},
     "output_type": "execute_result"
    },
    {
     "data": {
      "image/png": "[encoded data removed]",
      "text/plain": [
       "<Figure size 432x288 with 1 Axes>"
      ]
     },
     "metadata": {},
     "output_type": "display_data"
    }
   ],
   "source": [
    "pl.plot(np.log(x_number), np.log(y_stress))"
   ]
  },
  {
   "cell_type": "markdown",
   "metadata": {},
   "source": [
    "Obs: o gráfico abaixo foi obtido utilizando o valor de $58^\\circ$, e resultou em um gráfico de mesmo formato que o anterio, i.e. $S_f$ constante."
   ]
  },
  {
   "cell_type": "code",
   "execution_count": 36,
   "metadata": {},
   "outputs": [
    {
     "data": {
      "text/plain": [
       "[<matplotlib.lines.Line2D at 0x1ee19f8b470>]"
      ]
     },
     "execution_count": 36,
     "metadata": {},
     "output_type": "execute_result"
    },
    {
     "data": {
      "image/png": "[encoded data removed]",
      "text/plain": [
       "<Figure size 432x288 with 1 Axes>"
      ]
     },
     "metadata": {},
     "output_type": "display_data"
    }
   ],
   "source": [
    "pl.plot(x_number, y_pos_safeties)"
   ]
  },
  {
   "cell_type": "markdown",
   "metadata": {},
   "source": [
    "Por inspeção, encontramos:"
   ]
  },
  {
   "cell_type": "code",
   "execution_count": 37,
   "metadata": {},
   "outputs": [
    {
     "data": {
      "text/plain": [
       "1.0584362482147656"
      ]
     },
     "execution_count": 37,
     "metadata": {},
     "output_type": "execute_result"
    }
   ],
   "source": [
    "y_pos_safeties[45]"
   ]
  },
  {
   "cell_type": "code",
   "execution_count": 38,
   "metadata": {},
   "outputs": [
    {
     "data": {
      "text/plain": [
       "5404"
      ]
     },
     "execution_count": 38,
     "metadata": {},
     "output_type": "execute_result"
    }
   ],
   "source": [
    "x_number[45]"
   ]
  },
  {
   "cell_type": "markdown",
   "metadata": {},
   "source": [
    "Portanto, necessitaríamos de 5404 lâminas para o projeto do tanque em questão, com lâminas de kevlar-epóxi a +/-55 graus de inclinação. "
   ]
  },
  {
   "cell_type": "markdown",
   "metadata": {},
   "source": [
    "### Cálculo do peso linear do Composto"
   ]
  },
  {
   "cell_type": "code",
   "execution_count": 39,
   "metadata": {},
   "outputs": [
    {
     "data": {
      "text/plain": [
       "0.5404"
      ]
     },
     "execution_count": 39,
     "metadata": {},
     "output_type": "execute_result"
    }
   ],
   "source": [
    "hcomp = 5404*0.0001\n",
    "hcomp"
   ]
  },
  {
   "cell_type": "code",
   "execution_count": 40,
   "metadata": {},
   "outputs": [],
   "source": [
    "rhocomp = 1380"
   ]
  },
  {
   "cell_type": "code",
   "execution_count": 41,
   "metadata": {},
   "outputs": [
    {
     "data": {
      "text/plain": [
       "22983.34873512497"
      ]
     },
     "execution_count": 41,
     "metadata": {},
     "output_type": "execute_result"
    }
   ],
   "source": [
    "LinWeightComp = 9.81*2*np.pi*r*hcomp*rhocomp # g = 9.81 m/s2\n",
    "LinWeightComp"
   ]
  },
  {
   "cell_type": "markdown",
   "metadata": {},
   "source": [
    "## Comparação com outros materiais"
   ]
  },
  {
   "cell_type": "code",
   "execution_count": 42,
   "metadata": {},
   "outputs": [],
   "source": [
    "# vaso de pressão\n",
    "p = 10 # MPa\n",
    "r = 0.5 # m"
   ]
  },
  {
   "cell_type": "code",
   "execution_count": 43,
   "metadata": {},
   "outputs": [],
   "source": [
    "h_hist = []\n",
    "J2_hist = []"
   ]
  },
  {
   "cell_type": "code",
   "execution_count": 44,
   "metadata": {},
   "outputs": [],
   "source": [
    "for h in np.linspace(0.001,0.05,100):\n",
    "    # podemos aproveitar a natureza linear do problema\n",
    "    t = h # m\n",
    "    sigmax = p*r/2/t\n",
    "    sigmay = p*r/t\n",
    "    sigma = np.matrix([\n",
    "            [ sigmax, 0, 0 ],\n",
    "            [ 0, sigmay, 0 ],\n",
    "            [ 0, 0, 0 ]\n",
    "        ])\n",
    "    sigmadev = sigma - 1/3*np.trace(sigma)*np.identity(3)\n",
    "    J2 = -1/2*(np.trace(sigmadev)**2 - np.trace(sigmadev*sigmadev))\n",
    "    h_hist.append(h)\n",
    "    J2_hist.append(J2)"
   ]
  },
  {
   "cell_type": "code",
   "execution_count": 45,
   "metadata": {
    "scrolled": true
   },
   "outputs": [
    {
     "data": {
      "text/plain": [
       "[6250000.0,\n",
       " 2796578.250547845,\n",
       " 1578403.2054420363,\n",
       " 1012232.3022010708,\n",
       " 703892.5596093076,\n",
       " 517646.7854245537,\n",
       " 396611.5028261755,\n",
       " 313549.3233144285,\n",
       " 254089.91168943213,\n",
       " 210069.44444444444,\n",
       " 176571.17902923143,\n",
       " 150490.48751486326,\n",
       " 129788.7149367861,\n",
       " 113082.33769494327,\n",
       " 99405.65540184188,\n",
       " 88068.03478080843,\n",
       " 78564.97911346702,\n",
       " 70521.01945145427,\n",
       " 63652.0494907836,\n",
       " 57739.89065887452,\n",
       " 52614.75072600946,\n",
       " 48142.89554096876,\n",
       " 44217.835618831334,\n",
       " 40753.92727979156,\n",
       " 37681.66089965398,\n",
       " 34944.146411588066,\n",
       " 32494.460591291092,\n",
       " 30293.62281685627,\n",
       " 28309.034721127842,\n",
       " 26513.26610110803,\n",
       " 24883.101974562116,\n",
       " 23398.788505701465,\n",
       " 22043.431745564503,\n",
       " 20802.514792899397,\n",
       " 19663.507451307687,\n",
       " 18615.548672641668,\n",
       " 17649.186678802304,\n",
       " 16756.16509252289,\n",
       " 15929.24599813653,\n",
       " 15162.06282022722,\n",
       " 14448.99741265499,\n",
       " 13785.07690950531,\n",
       " 13165.886788365078,\n",
       " 12587.497297817126,\n",
       " 12046.400951814396,\n",
       " 11539.459228515621,\n",
       " 11063.856956487263,\n",
       " 10617.063146794822,\n",
       " 10196.797250591395,\n",
       " 9800.999999999996,\n",
       " 9427.808134360184,\n",
       " 9075.532431235966,\n",
       " 8742.638557396309,\n",
       " 8427.730333541724,\n",
       " 8129.535071217414,\n",
       " 7846.890693781387,\n",
       " 7578.734397596629,\n",
       " 7324.0926464764725,\n",
       " 7082.072323183322,\n",
       " 6851.852887551593,\n",
       " 6632.679412455452,\n",
       " 6423.856387084217,\n",
       " 6224.742192403866,\n",
       " 6034.744166746467,\n",
       " 5853.314190569241,\n",
       " 5679.944728881477,\n",
       " 5514.165277913928,\n",
       " 5355.539169520623,\n",
       " 5203.660692737476,\n",
       " 5058.152497027346,\n",
       " 4918.663246142293,\n",
       " 4784.86549533654,\n",
       " 4656.453767956209,\n",
       " 4533.142810288421,\n",
       " 4414.6660060357635,\n",
       " 4300.773933945166,\n",
       " 4191.233054007885,\n",
       " 4085.8245092975208,\n",
       " 3984.343031958455,\n",
       " 3886.595943125075,\n",
       " 3792.402237666678,\n",
       " 3701.591745633956,\n",
       " 3614.0043631479016,\n",
       " 3529.4893462358677,\n",
       " 3447.904661795063,\n",
       " 3369.116390462144,\n",
       " 3292.99817669839,\n",
       " 3219.430721871458,\n",
       " 3148.301316534101,\n",
       " 3079.5034084739277,\n",
       " 3012.93620344142,\n",
       " 2948.504295761076,\n",
       " 2886.1173262966677,\n",
       " 2825.6896654798593,\n",
       " 2767.140119324977,\n",
       " 2710.391656544478,\n",
       " 2655.371155051828,\n",
       " 2602.009166293431,\n",
       " 2550.23969599082,\n",
       " 2500.0]"
      ]
     },
     "execution_count": 45,
     "metadata": {},
     "output_type": "execute_result"
    }
   ],
   "source": [
    "J2_hist"
   ]
  },
  {
   "cell_type": "code",
   "execution_count": 46,
   "metadata": {},
   "outputs": [],
   "source": [
    "sigmav = np.sqrt(3/2*np.array(J2_hist))"
   ]
  },
  {
   "cell_type": "code",
   "execution_count": 47,
   "metadata": {
    "scrolled": false
   },
   "outputs": [
    {
     "data": {
      "text/plain": [
       "[<matplotlib.lines.Line2D at 0x1ee19fed2b0>]"
      ]
     },
     "execution_count": 47,
     "metadata": {},
     "output_type": "execute_result"
    },
    {
     "data": {
      "image/png": "[encoded data removed]",
      "text/plain": [
       "<Figure size 432x288 with 1 Axes>"
      ]
     },
     "metadata": {},
     "output_type": "display_data"
    }
   ],
   "source": [
    "pl.plot(h_hist,sigmav)"
   ]
  },
  {
   "cell_type": "markdown",
   "metadata": {},
   "source": [
    "em [MPa]."
   ]
  },
  {
   "cell_type": "markdown",
   "metadata": {},
   "source": [
    "Características do alumínio: 2024-T6"
   ]
  },
  {
   "cell_type": "code",
   "execution_count": 48,
   "metadata": {},
   "outputs": [],
   "source": [
    "Ealum = 73000 # MPa\n",
    "nualum = 0.3\n",
    "rhoalum = 2700 # kg/m3\n",
    "sigmaealum = 240 # MPa"
   ]
  },
  {
   "cell_type": "code",
   "execution_count": 49,
   "metadata": {},
   "outputs": [
    {
     "data": {
      "text/plain": [
       "237.7445926818967"
      ]
     },
     "execution_count": 49,
     "metadata": {},
     "output_type": "execute_result"
    }
   ],
   "source": [
    "sigmav[24]"
   ]
  },
  {
   "cell_type": "code",
   "execution_count": 50,
   "metadata": {},
   "outputs": [
    {
     "data": {
      "text/plain": [
       "0.012878787878787878"
      ]
     },
     "execution_count": 50,
     "metadata": {},
     "output_type": "execute_result"
    }
   ],
   "source": [
    "halum = h_hist[24]\n",
    "halum"
   ]
  },
  {
   "cell_type": "markdown",
   "metadata": {},
   "source": [
    "em [m]."
   ]
  },
  {
   "cell_type": "markdown",
   "metadata": {},
   "source": [
    "### Cálculo do peso linear de alumínio"
   ]
  },
  {
   "cell_type": "code",
   "execution_count": 51,
   "metadata": {},
   "outputs": [
    {
     "data": {
      "text/plain": [
       "1071.661513989211"
      ]
     },
     "execution_count": 51,
     "metadata": {},
     "output_type": "execute_result"
    }
   ],
   "source": [
    "LinWeightAlum = 9.81*2*np.pi*r*halum*rhoalum # g = 9.81 m/s2\n",
    "LinWeightAlum"
   ]
  },
  {
   "cell_type": "markdown",
   "metadata": {},
   "source": [
    "Características do aço: A517 grau B"
   ]
  },
  {
   "cell_type": "code",
   "execution_count": 52,
   "metadata": {},
   "outputs": [],
   "source": [
    "Eaco = 210000 # MPa\n",
    "nuaco = 0.3\n",
    "rhoaco = 7800 # kg/m3\n",
    "sigmaeaco = 690 # MPa"
   ]
  },
  {
   "cell_type": "code",
   "execution_count": 53,
   "metadata": {},
   "outputs": [
    {
     "data": {
      "text/plain": [
       "685.8017096593175"
      ]
     },
     "execution_count": 53,
     "metadata": {},
     "output_type": "execute_result"
    }
   ],
   "source": [
    "sigmav[7]"
   ]
  },
  {
   "cell_type": "code",
   "execution_count": 54,
   "metadata": {},
   "outputs": [
    {
     "data": {
      "text/plain": [
       "0.004464646464646465"
      ]
     },
     "execution_count": 54,
     "metadata": {},
     "output_type": "execute_result"
    }
   ],
   "source": [
    "haco = h_hist[7]\n",
    "haco"
   ]
  },
  {
   "cell_type": "markdown",
   "metadata": {},
   "source": [
    "em [m]."
   ]
  },
  {
   "cell_type": "markdown",
   "metadata": {},
   "source": [
    "### Cálculo do peso linear do aço"
   ]
  },
  {
   "cell_type": "code",
   "execution_count": 55,
   "metadata": {},
   "outputs": [
    {
     "data": {
      "text/plain": [
       "1073.2491606766023"
      ]
     },
     "execution_count": 55,
     "metadata": {},
     "output_type": "execute_result"
    }
   ],
   "source": [
    "LinWeightSteel = 9.81*2*np.pi*r*haco*rhoaco # g = 9.81 m/s2\n",
    "LinWeightSteel"
   ]
  },
  {
   "cell_type": "markdown",
   "metadata": {},
   "source": [
    "# Conclusão"
   ]
  },
  {
   "cell_type": "markdown",
   "metadata": {},
   "source": [
    "A implementação numérica do modelo ora apresentado mostrou-se produtiva em um sentido inesperado. Esta produtividade inesperada explica-se, quiçá, por uma certa circularidade inerente aos exercícios desta matéria. Conforme explicitado em <i>slide</i> sobre o Processo de Projeto, a circularidade a eles inerente pode apresentar-se confusa a princípio. "
   ]
  },
  {
   "cell_type": "markdown",
   "metadata": {},
   "source": [
    "Felizmente, a experiência de interpretação subjetiva dos cálculos de projeto foi facilitada pelo trabalho proposto. Ainda, é possível afirmar que houve um certo grau de sinergia entre este trabalho, um trabalho recentemente entregue à disciplina de Análise Fisicamente Não-Linear e os assuntos sendo desenvolvidos na disciplina de Método dos Elementos Finitos."
   ]
  },
  {
   "cell_type": "code",
   "execution_count": 56,
   "metadata": {},
   "outputs": [],
   "source": [
    "mat1 = sc31.sheets[0].material"
   ]
  },
  {
   "cell_type": "code",
   "execution_count": 57,
   "metadata": {},
   "outputs": [
    {
     "data": {
      "text/plain": [
       "(matrix([[ 1.1494e-05, -3.9080e-06,  0.0000e+00],\n",
       "         [-3.9080e-06,  1.8182e-04,  0.0000e+00],\n",
       "         [ 0.0000e+00,  0.0000e+00,  4.5455e-04]]),\n",
       " matrix([[87640.4807,  1883.7667,     0.    ],\n",
       "         [ 1883.7667, 87640.4807,     0.    ],\n",
       "         [    0.    ,     0.    ,  2200.    ]]))"
      ]
     },
     "execution_count": 57,
     "metadata": {},
     "output_type": "execute_result"
    }
   ],
   "source": [
    "mat1.get_constitutive_on()"
   ]
  },
  {
   "cell_type": "code",
   "execution_count": 58,
   "metadata": {},
   "outputs": [],
   "source": [
    "sh1 = sc31.sheets[0]"
   ]
  },
  {
   "cell_type": "code",
   "execution_count": 59,
   "metadata": {},
   "outputs": [
    {
     "data": {
      "text/plain": [
       "matrix([[ 1.1494e-05, -3.9080e-06,  0.0000e+00],\n",
       "        [-3.9080e-06,  1.8182e-04,  0.0000e+00],\n",
       "        [ 0.0000e+00,  0.0000e+00,  4.5455e-04]])"
      ]
     },
     "execution_count": 59,
     "metadata": {},
     "output_type": "execute_result"
    }
   ],
   "source": [
    "sh1.get_on_axis_compliance()"
   ]
  },
  {
   "cell_type": "code",
   "execution_count": 60,
   "metadata": {},
   "outputs": [
    {
     "data": {
      "text/plain": [
       "matrix([[87640.4807,  1883.7667,     0.    ],\n",
       "        [ 1883.7667,  5540.4902,     0.    ],\n",
       "        [    0.    ,     0.    ,  2200.    ]])"
      ]
     },
     "execution_count": 60,
     "metadata": {},
     "output_type": "execute_result"
    }
   ],
   "source": [
    "sh1.get_on_axis_stiffness()"
   ]
  },
  {
   "cell_type": "code",
   "execution_count": null,
   "metadata": {
    "collapsed": true
   },
   "outputs": [],
   "source": []
  }
 ],
 "metadata": {
  "anaconda-cloud": {},
  "kernelspec": {
   "display_name": "Python 3",
   "language": "python",
   "name": "python3"
  },
  "language_info": {
   "codemirror_mode": {
    "name": "ipython",
    "version": 3
   },
   "file_extension": ".py",
   "mimetype": "text/x-python",
   "name": "python",
   "nbconvert_exporter": "python",
   "pygments_lexer": "ipython3",
   "version": "3.7.2rc1"
  }
 },
 "nbformat": 4,
 "nbformat_minor": 1
}
